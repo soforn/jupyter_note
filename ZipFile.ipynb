import zipfile
import os
files = zipfile.ZipFile('BMPD-TFRecords-export.zip', 'r')
files.extractall("./")
files.close()   
